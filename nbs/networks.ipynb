{
 "cells": [
  {
   "cell_type": "code",
   "execution_count": null,
   "metadata": {},
   "outputs": [],
   "source": [
    "# default_exp networks"
   ]
  },
  {
   "cell_type": "code",
   "execution_count": null,
   "metadata": {},
   "outputs": [],
   "source": [
    "# hide\n",
    "from nbdev.showdoc import *"
   ]
  },
  {
   "cell_type": "code",
   "execution_count": null,
   "metadata": {},
   "outputs": [],
   "source": [
    "# export\n",
    "import torch\n",
    "import torch.nn as nn\n",
    "\n",
    "from torch import tensor"
   ]
  },
  {
   "cell_type": "markdown",
   "metadata": {},
   "source": [
    "# Networks\n",
    "\n",
    "> Common neural network architectures for *Collaborative Filtering*."
   ]
  },
  {
   "cell_type": "markdown",
   "metadata": {},
   "source": [
    "# Overview\n",
    "\n",
    "This package implements several neural network architectures that can be used to build recommendation systems. Users of the library can add or define their own implementations or use the existing ones. There are two layers that every architecture should define:\n",
    "\n",
    "* **user_embeddings**: The user embedding matrix\n",
    "* **item_embeddings**: The item embedding matrix\n",
    "\n",
    "Every implementation should be a subclass of `torch.nn.Module`."
   ]
  },
  {
   "cell_type": "markdown",
   "metadata": {},
   "source": [
    "## Simple Collaborative Filtering\n",
    "\n",
    "This architecture is the simplest one to implement *Collaborative Filtering*. It only defines the embedding matrices for users and items and the final rating is computed by the dot product of the corresponding rows."
   ]
  },
  {
   "cell_type": "code",
   "execution_count": null,
   "metadata": {},
   "outputs": [],
   "source": [
    "# export\n",
    "class SimpleCF(nn.Module):\n",
    "    def __init__(self, n_users: int, n_items: int, factors: int = 16, \n",
    "                 user_embeddings: torch.tensor = None, freeze_users: bool = False,\n",
    "                 item_embeddings: torch.tensor = None, freeze_items: bool = False,\n",
    "                 init: torch.nn.init = torch.nn.init.normal_, binary: bool =False, **kwargs):\n",
    "        super().__init__()\n",
    "        self.binary = binary\n",
    "        \n",
    "        self.user_embeddings = self._create_embedding(n_users, factors, \n",
    "                                                      user_embeddings, freeze_users, \n",
    "                                                      init, **kwargs)\n",
    "        self.item_embeddings = self._create_embedding(n_items, factors, \n",
    "                                                      item_embeddings, freeze_items,\n",
    "                                                      init, **kwargs)\n",
    "        self.sigmoid = nn.Sigmoid()\n",
    "\n",
    "    def forward(self, u: torch.tensor, i: torch.tensor) -> torch.tensor:\n",
    "        user_embedding = self.user_embeddings(u)\n",
    "        user_embedding = user_embedding[:, None, :]\n",
    "        item_embedding = self.item_embeddings(i)\n",
    "        item_embedding = item_embedding[:, None, :]\n",
    "        rating = torch.matmul(user_embedding, item_embedding.transpose(1, 2))\n",
    "        if self.binary:\n",
    "            return self.sigmoid(rating)\n",
    "        return rating\n",
    "    \n",
    "    def _create_embedding(self, n_items, factors, weights, freeze, init, **kwargs):\n",
    "        embedding = nn.Embedding(n_items, factors)\n",
    "        init(embedding.weight.data, **kwargs)\n",
    "        \n",
    "        if weights is not None:\n",
    "            embedding.load_state_dict({'weight': weights})\n",
    "        if freeze:\n",
    "            embedding.weight.requires_grad = False\n",
    "        \n",
    "        return embedding"
   ]
  },
  {
   "cell_type": "markdown",
   "metadata": {},
   "source": [
    "Arguments:\n",
    "\n",
    "* n_users (int): The number of unique users\n",
    "* n_items (int): The number of unique items\n",
    "* factors (int): The dimension of the embedding space\n",
    "* user_embeddings (torch.tensor): Pre-trained weights for the user embedding matrix\n",
    "* freeze_users (bool): `True` if we want to keep the user weights as is (i.e. non-trainable)\n",
    "* item_embeddings (torch.tensor): Pre-trained weights for the item embedding matrix\n",
    "* freeze_item (bool): `True` if we want to keep the item weights as is (i.e. non-trainable)\n",
    "* init (torch.nn.init): The initialization method of the embedding matrices - default: torch.nn.init.normal_"
   ]
  },
  {
   "cell_type": "code",
   "execution_count": null,
   "metadata": {},
   "outputs": [
    {
     "data": {
      "text/plain": [
       "tensor([[[0.5009]]], grad_fn=<SigmoidBackward>)"
      ]
     },
     "execution_count": null,
     "metadata": {},
     "output_type": "execute_result"
    }
   ],
   "source": [
    "# initialize the model with 100 users, 50 items and a 16-dimensional embedding space\n",
    "model = SimpleCF(100, 50, 16, mean=0., std=.1, binary=True)\n",
    "\n",
    "# predict the rating that user 3 would give to item 33\n",
    "model(torch.tensor([2]), torch.tensor([32]))"
   ]
  }
 ],
 "metadata": {
  "kernelspec": {
   "display_name": "Python [conda env:cf_step]",
   "language": "python",
   "name": "conda-env-cf_step-py"
  }
 },
 "nbformat": 4,
 "nbformat_minor": 2
}
